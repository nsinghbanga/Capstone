{
 "cells": [
  {
   "cell_type": "code",
   "execution_count": 1,
   "metadata": {},
   "outputs": [],
   "source": [
    "import pandas as pd"
   ]
  },
  {
   "cell_type": "code",
   "execution_count": 5,
   "metadata": {},
   "outputs": [],
   "source": [
    "train = pd.read_csv(\"D:/Academics Canada/AIDI/Semester 2/Capstone 2/Project/MNIST Dataset/sign_mnist_train.csv\")\n",
    "test = pd.read_csv(\"D:/Academics Canada/AIDI/Semester 2/Capstone 2/Project/MNIST Dataset/sign_mnist_test.csv\")"
   ]
  },
  {
   "cell_type": "code",
   "execution_count": 7,
   "metadata": {},
   "outputs": [],
   "source": [
    "label = train['label'].values"
   ]
  },
  {
   "cell_type": "code",
   "execution_count": 11,
   "metadata": {},
   "outputs": [
    {
     "data": {
      "text/plain": [
       "array([ 0,  1,  2,  3,  4,  5,  6,  7,  8, 10, 11, 12, 13, 14, 15, 16, 17,\n",
       "       18, 19, 20, 21, 22, 23, 24], dtype=int64)"
      ]
     },
     "execution_count": 11,
     "metadata": {},
     "output_type": "execute_result"
    }
   ],
   "source": [
    "import numpy as np\n",
    "unique_value = np.array(label)\n",
    "np.unique(unique_value)"
   ]
  },
  {
   "cell_type": "code",
   "execution_count": 12,
   "metadata": {},
   "outputs": [],
   "source": [
    "train.drop('label', axis = 1, inplace = True)"
   ]
  },
  {
   "cell_type": "code",
   "execution_count": 14,
   "metadata": {},
   "outputs": [],
   "source": [
    "images = train.values\n",
    "images = np.array([np.reshape(i, (28, 28)) for i in images])\n",
    "images = np.array([i.flatten() for i in images])"
   ]
  },
  {
   "cell_type": "code",
   "execution_count": 16,
   "metadata": {},
   "outputs": [],
   "source": [
    "from sklearn.preprocessing import LabelBinarizer\n",
    "label_binarizer = LabelBinarizer()\n",
    "label = label_binarizer.fit_transform(label)"
   ]
  },
  {
   "cell_type": "code",
   "execution_count": 17,
   "metadata": {},
   "outputs": [
    {
     "data": {
      "text/plain": [
       "array([[0, 0, 0, ..., 0, 0, 0],\n",
       "       [0, 0, 0, ..., 0, 0, 0],\n",
       "       [0, 0, 1, ..., 0, 0, 0],\n",
       "       ...,\n",
       "       [0, 0, 0, ..., 0, 0, 0],\n",
       "       [0, 0, 0, ..., 0, 0, 0],\n",
       "       [0, 0, 0, ..., 0, 1, 0]])"
      ]
     },
     "execution_count": 17,
     "metadata": {},
     "output_type": "execute_result"
    }
   ],
   "source": [
    "label"
   ]
  },
  {
   "cell_type": "code",
   "execution_count": 19,
   "metadata": {},
   "outputs": [
    {
     "data": {
      "text/plain": [
       "<matplotlib.image.AxesImage at 0x29509382e48>"
      ]
     },
     "execution_count": 19,
     "metadata": {},
     "output_type": "execute_result"
    }
   ],
   "source": [
    "import matplotlib.pyplot as plt\n",
    "plt.imshow(images[1].reshape(28,28))"
   ]
  },
  {
   "cell_type": "code",
   "execution_count": 20,
   "metadata": {},
   "outputs": [],
   "source": [
    "from sklearn.model_selection import train_test_split\n",
    "x_train, x_test, y_train, y_test = train_test_split(images, label, test_size = 0.3, random_state = 101)"
   ]
  },
  {
   "cell_type": "code",
   "execution_count": 21,
   "metadata": {},
   "outputs": [
    {
     "name": "stderr",
     "output_type": "stream",
     "text": [
      "Using TensorFlow backend.\n"
     ]
    }
   ],
   "source": [
    "import keras\n",
    "from keras.models import Sequential\n",
    "from keras.layers import Dense, Conv2D, MaxPooling2D, Flatten, Dropout"
   ]
  },
  {
   "cell_type": "code",
   "execution_count": 22,
   "metadata": {},
   "outputs": [],
   "source": [
    "batch_size = 128\n",
    "num_classes = 24\n",
    "epochs = 50"
   ]
  },
  {
   "cell_type": "code",
   "execution_count": 23,
   "metadata": {},
   "outputs": [],
   "source": [
    "x_train = x_train / 255\n",
    "x_test = x_test / 255"
   ]
  },
  {
   "cell_type": "code",
   "execution_count": 24,
   "metadata": {},
   "outputs": [],
   "source": [
    "x_train = x_train.reshape(x_train.shape[0], 28, 28, 1)\n",
    "x_test = x_test.reshape(x_test.shape[0], 28, 28, 1)"
   ]
  },
  {
   "cell_type": "code",
   "execution_count": 25,
   "metadata": {},
   "outputs": [
    {
     "data": {
      "text/plain": [
       "<matplotlib.image.AxesImage at 0x29531c891d0>"
      ]
     },
     "execution_count": 25,
     "metadata": {},
     "output_type": "execute_result"
    },
    {
     "data": {
      "image/png": "[encoded data removed]",
      "text/plain": [
       "<Figure size 432x288 with 1 Axes>"
      ]
     },
     "metadata": {
      "needs_background": "light"
     },
     "output_type": "display_data"
    }
   ],
   "source": [
    "plt.imshow(x_train[0].reshape(28, 28))"
   ]
  },
  {
   "cell_type": "code",
   "execution_count": 26,
   "metadata": {},
   "outputs": [],
   "source": [
    "model = Sequential()\n",
    "\n",
    "model.add(Conv2D(64, kernel_size = (3, 3), activation = 'relu', input_shape = (28, 28, 1)))\n",
    "model.add(MaxPooling2D(pool_size = (2, 2)))\n",
    "\n",
    "model.add(Conv2D(64, kernel_size = (3, 3), activation = 'relu'))\n",
    "model.add(MaxPooling2D(pool_size = (2, 2)))\n",
    "\n",
    "model.add(Conv2D(64, kernel_size = (3, 3), activation = 'relu'))\n",
    "model.add(MaxPooling2D(pool_size = (2, 2)))\n",
    "\n",
    "model.add(Flatten())\n",
    "model.add(Dense(128, activation = 'relu'))\n",
    "model.add(Dropout(0.2))\n",
    "\n",
    "model.add(Dense(num_classes, activation = 'softmax'))"
   ]
  },
  {
   "cell_type": "code",
   "execution_count": 27,
   "metadata": {},
   "outputs": [
    {
     "name": "stdout",
     "output_type": "stream",
     "text": [
      "Model: \"sequential_1\"\n",
      "_________________________________________________________________\n",
      "Layer (type)                 Output Shape              Param #   \n",
      "=================================================================\n",
      "conv2d_1 (Conv2D)            (None, 26, 26, 64)        640       \n",
      "_________________________________________________________________\n",
      "max_pooling2d_1 (MaxPooling2 (None, 13, 13, 64)        0         \n",
      "_________________________________________________________________\n",
      "conv2d_2 (Conv2D)            (None, 11, 11, 64)        36928     \n",
      "_________________________________________________________________\n",
      "max_pooling2d_2 (MaxPooling2 (None, 5, 5, 64)          0         \n",
      "_________________________________________________________________\n",
      "conv2d_3 (Conv2D)            (None, 3, 3, 64)          36928     \n",
      "_________________________________________________________________\n",
      "max_pooling2d_3 (MaxPooling2 (None, 1, 1, 64)          0         \n",
      "_________________________________________________________________\n",
      "flatten_1 (Flatten)          (None, 64)                0         \n",
      "_________________________________________________________________\n",
      "dense_1 (Dense)              (None, 128)               8320      \n",
      "_________________________________________________________________\n",
      "dropout_1 (Dropout)          (None, 128)               0         \n",
      "_________________________________________________________________\n",
      "dense_2 (Dense)              (None, 24)                3096      \n",
      "=================================================================\n",
      "Total params: 85,912\n",
      "Trainable params: 85,912\n",
      "Non-trainable params: 0\n",
      "_________________________________________________________________\n"
     ]
    }
   ],
   "source": [
    "model.summary()"
   ]
  },
  {
   "cell_type": "code",
   "execution_count": 28,
   "metadata": {},
   "outputs": [],
   "source": [
    "model.compile(loss = keras.losses.categorical_crossentropy, optimizer = keras.optimizers.Adam(), metrics = ['accuracy'])"
   ]
  },
  {
   "cell_type": "code",
   "execution_count": 29,
   "metadata": {},
   "outputs": [
    {
     "name": "stdout",
     "output_type": "stream",
     "text": [
      "Train on 19218 samples, validate on 8237 samples\n",
      "Epoch 1/50\n",
      "19218/19218 [==============================] - 10s 532us/step - loss: 2.6127 - accuracy: 0.1911 - val_loss: 1.7004 - val_accuracy: 0.4978\n",
      "Epoch 2/50\n",
      "19218/19218 [==============================] - 10s 504us/step - loss: 1.3555 - accuracy: 0.5435 - val_loss: 0.8428 - val_accuracy: 0.7225\n",
      "Epoch 3/50\n",
      "19218/19218 [==============================] - 9s 492us/step - loss: 0.7897 - accuracy: 0.7297 - val_loss: 0.5205 - val_accuracy: 0.8425\n",
      "Epoch 4/50\n",
      "19218/19218 [==============================] - 9s 492us/step - loss: 0.5263 - accuracy: 0.8237 - val_loss: 0.3324 - val_accuracy: 0.8966\n",
      "Epoch 5/50\n",
      "19218/19218 [==============================] - 9s 491us/step - loss: 0.3631 - accuracy: 0.8789 - val_loss: 0.2186 - val_accuracy: 0.9395\n",
      "Epoch 6/50\n",
      "19218/19218 [==============================] - 9s 493us/step - loss: 0.2489 - accuracy: 0.9180 - val_loss: 0.1441 - val_accuracy: 0.9540\n",
      "Epoch 7/50\n",
      "19218/19218 [==============================] - 10s 496us/step - loss: 0.1736 - accuracy: 0.9442 - val_loss: 0.1073 - val_accuracy: 0.9683\n",
      "Epoch 8/50\n",
      "19218/19218 [==============================] - 9s 494us/step - loss: 0.1252 - accuracy: 0.9593 - val_loss: 0.0620 - val_accuracy: 0.9869\n",
      "Epoch 9/50\n",
      "19218/19218 [==============================] - 10s 495us/step - loss: 0.0982 - accuracy: 0.9700 - val_loss: 0.0498 - val_accuracy: 0.9900\n",
      "Epoch 10/50\n",
      "19218/19218 [==============================] - 10s 517us/step - loss: 0.0867 - accuracy: 0.9739 - val_loss: 0.0324 - val_accuracy: 0.9958\n",
      "Epoch 11/50\n",
      "19218/19218 [==============================] - 10s 497us/step - loss: 0.0616 - accuracy: 0.9827 - val_loss: 0.0249 - val_accuracy: 0.9938\n",
      "Epoch 12/50\n",
      "19218/19218 [==============================] - 10s 496us/step - loss: 0.0460 - accuracy: 0.9867 - val_loss: 0.0175 - val_accuracy: 0.9970\n",
      "Epoch 13/50\n",
      "19218/19218 [==============================] - 9s 492us/step - loss: 0.0367 - accuracy: 0.9903 - val_loss: 0.0130 - val_accuracy: 0.9979\n",
      "Epoch 14/50\n",
      "19218/19218 [==============================] - 9s 493us/step - loss: 0.0311 - accuracy: 0.9926 - val_loss: 0.0116 - val_accuracy: 0.9983\n",
      "Epoch 15/50\n",
      "19218/19218 [==============================] - 10s 495us/step - loss: 0.0260 - accuracy: 0.9937 - val_loss: 0.0117 - val_accuracy: 0.9987\n",
      "Epoch 16/50\n",
      "19218/19218 [==============================] - 10s 495us/step - loss: 0.0275 - accuracy: 0.9922 - val_loss: 0.0108 - val_accuracy: 0.9978\n",
      "Epoch 17/50\n",
      "19218/19218 [==============================] - 9s 492us/step - loss: 0.0185 - accuracy: 0.9961 - val_loss: 0.0059 - val_accuracy: 0.9990\n",
      "Epoch 18/50\n",
      "19218/19218 [==============================] - 9s 491us/step - loss: 0.0150 - accuracy: 0.9963 - val_loss: 0.0054 - val_accuracy: 0.9994\n",
      "Epoch 19/50\n",
      "19218/19218 [==============================] - 9s 490us/step - loss: 0.0204 - accuracy: 0.9943 - val_loss: 0.0050 - val_accuracy: 0.9995\n",
      "Epoch 20/50\n",
      "19218/19218 [==============================] - 10s 496us/step - loss: 0.0163 - accuracy: 0.9956 - val_loss: 0.0044 - val_accuracy: 0.9993\n",
      "Epoch 21/50\n",
      "19218/19218 [==============================] - 10s 499us/step - loss: 0.0171 - accuracy: 0.9952 - val_loss: 0.0063 - val_accuracy: 0.9988\n",
      "Epoch 22/50\n",
      "19218/19218 [==============================] - 10s 495us/step - loss: 0.0148 - accuracy: 0.9958 - val_loss: 0.0050 - val_accuracy: 0.9996\n",
      "Epoch 23/50\n",
      "19218/19218 [==============================] - 9s 494us/step - loss: 0.0165 - accuracy: 0.9953 - val_loss: 0.0024 - val_accuracy: 1.0000\n",
      "Epoch 24/50\n",
      "19218/19218 [==============================] - 9s 492us/step - loss: 0.0098 - accuracy: 0.9975 - val_loss: 0.0015 - val_accuracy: 0.9999\n",
      "Epoch 25/50\n",
      "19218/19218 [==============================] - 9s 494us/step - loss: 0.0165 - accuracy: 0.9954 - val_loss: 0.0036 - val_accuracy: 0.9995\n",
      "Epoch 26/50\n",
      "19218/19218 [==============================] - 10s 517us/step - loss: 0.0066 - accuracy: 0.9986 - val_loss: 0.0018 - val_accuracy: 0.9995\n",
      "Epoch 27/50\n",
      "19218/19218 [==============================] - 9s 481us/step - loss: 0.0067 - accuracy: 0.9985 - val_loss: 0.0015 - val_accuracy: 0.9999\n",
      "Epoch 28/50\n",
      "19218/19218 [==============================] - 9s 470us/step - loss: 0.0151 - accuracy: 0.9956 - val_loss: 0.0044 - val_accuracy: 0.9988\n",
      "Epoch 29/50\n",
      "19218/19218 [==============================] - 9s 473us/step - loss: 0.0142 - accuracy: 0.9958 - val_loss: 0.0024 - val_accuracy: 0.9995\n",
      "Epoch 30/50\n",
      "19218/19218 [==============================] - 9s 473us/step - loss: 0.0058 - accuracy: 0.9986 - val_loss: 0.0019 - val_accuracy: 0.9995\n",
      "Epoch 31/50\n",
      "19218/19218 [==============================] - 9s 473us/step - loss: 0.0288 - accuracy: 0.9900 - val_loss: 0.0059 - val_accuracy: 0.9989\n",
      "Epoch 32/50\n",
      "19218/19218 [==============================] - 9s 474us/step - loss: 0.0109 - accuracy: 0.9967 - val_loss: 0.0013 - val_accuracy: 0.9999\n",
      "Epoch 33/50\n",
      "19218/19218 [==============================] - 9s 471us/step - loss: 0.0065 - accuracy: 0.9982 - val_loss: 0.0015 - val_accuracy: 0.9996\n",
      "Epoch 34/50\n",
      "19218/19218 [==============================] - 9s 473us/step - loss: 0.0049 - accuracy: 0.9987 - val_loss: 6.3725e-04 - val_accuracy: 1.0000\n",
      "Epoch 35/50\n",
      "19218/19218 [==============================] - 9s 488us/step - loss: 0.0088 - accuracy: 0.9969 - val_loss: 0.0011 - val_accuracy: 0.9996\n",
      "Epoch 36/50\n",
      "19218/19218 [==============================] - 10s 496us/step - loss: 0.0078 - accuracy: 0.9976 - val_loss: 0.0012 - val_accuracy: 0.9998\n",
      "Epoch 37/50\n",
      "19218/19218 [==============================] - 9s 473us/step - loss: 0.0046 - accuracy: 0.9989 - val_loss: 9.2595e-04 - val_accuracy: 0.9999\n",
      "Epoch 38/50\n",
      "19218/19218 [==============================] - 9s 472us/step - loss: 0.0065 - accuracy: 0.9981 - val_loss: 0.0012 - val_accuracy: 0.9998\n",
      "Epoch 39/50\n",
      "19218/19218 [==============================] - 9s 472us/step - loss: 0.0059 - accuracy: 0.9986 - val_loss: 0.0023 - val_accuracy: 0.9998\n",
      "Epoch 40/50\n",
      "19218/19218 [==============================] - 9s 471us/step - loss: 0.0117 - accuracy: 0.9957 - val_loss: 0.0079 - val_accuracy: 0.9975\n",
      "Epoch 41/50\n",
      "19218/19218 [==============================] - 9s 482us/step - loss: 0.0096 - accuracy: 0.9970 - val_loss: 3.5963e-04 - val_accuracy: 1.0000\n",
      "Epoch 42/50\n",
      "19218/19218 [==============================] - 9s 473us/step - loss: 0.0035 - accuracy: 0.9991 - val_loss: 9.8149e-04 - val_accuracy: 0.9998\n",
      "Epoch 43/50\n",
      "19218/19218 [==============================] - 9s 473us/step - loss: 0.0068 - accuracy: 0.9982 - val_loss: 0.0018 - val_accuracy: 0.9998\n",
      "Epoch 44/50\n",
      "19218/19218 [==============================] - 9s 475us/step - loss: 0.0063 - accuracy: 0.9976 - val_loss: 0.0078 - val_accuracy: 0.9971\n",
      "Epoch 45/50\n",
      "19218/19218 [==============================] - 9s 475us/step - loss: 0.0031 - accuracy: 0.9990 - val_loss: 6.1464e-04 - val_accuracy: 1.0000\n",
      "Epoch 46/50\n",
      "19218/19218 [==============================] - 9s 476us/step - loss: 0.0077 - accuracy: 0.9975 - val_loss: 7.9264e-04 - val_accuracy: 0.9999\n",
      "Epoch 47/50\n",
      "19218/19218 [==============================] - 9s 473us/step - loss: 0.0035 - accuracy: 0.9988 - val_loss: 9.1181e-04 - val_accuracy: 0.9998\n",
      "Epoch 48/50\n",
      "19218/19218 [==============================] - 9s 474us/step - loss: 0.0051 - accuracy: 0.9985 - val_loss: 0.0014 - val_accuracy: 0.9998\n",
      "Epoch 49/50\n",
      "19218/19218 [==============================] - 9s 473us/step - loss: 0.0108 - accuracy: 0.9966 - val_loss: 0.0011 - val_accuracy: 0.9996\n",
      "Epoch 50/50\n",
      "19218/19218 [==============================] - 9s 473us/step - loss: 0.0067 - accuracy: 0.9978 - val_loss: 0.0026 - val_accuracy: 0.9994\n"
     ]
    }
   ],
   "source": [
    "history = model.fit(x_train, y_train, validation_data = (x_test, y_test), epochs = epochs, batch_size = batch_size)"
   ]
  },
  {
   "cell_type": "code",
   "execution_count": 33,
   "metadata": {},
   "outputs": [
    {
     "data": {
      "image/png": "[encoded data removed]",
      "text/plain": [
       "<Figure size 432x288 with 1 Axes>"
      ]
     },
     "metadata": {
      "needs_background": "light"
     },
     "output_type": "display_data"
    }
   ],
   "source": [
    "plt.plot(history.history['accuracy'])\n",
    "plt.plot(history.history['val_accuracy'])\n",
    "plt.title('Accuracy')\n",
    "plt.xlabel('epoch')\n",
    "plt.ylabel('accuracy')\n",
    "plt.legend(['train', 'test'])\n",
    "\n",
    "plt.show()"
   ]
  },
  {
   "cell_type": "code",
   "execution_count": 34,
   "metadata": {},
   "outputs": [],
   "source": [
    "test_labels = test['label']"
   ]
  },
  {
   "cell_type": "code",
   "execution_count": 35,
   "metadata": {},
   "outputs": [],
   "source": [
    "test.drop('label', axis = 1, inplace = True)"
   ]
  },
  {
   "cell_type": "code",
   "execution_count": 36,
   "metadata": {},
   "outputs": [],
   "source": [
    "test_images = test.values\n",
    "test_images = np.array([np.reshape(i, (28, 28)) for i in test_images])\n",
    "test_images = np.array([i.flatten() for i in test_images])"
   ]
  },
  {
   "cell_type": "code",
   "execution_count": 37,
   "metadata": {},
   "outputs": [],
   "source": [
    "test_labels = label_binarizer.fit_transform(test_labels)"
   ]
  },
  {
   "cell_type": "code",
   "execution_count": 38,
   "metadata": {},
   "outputs": [],
   "source": [
    "test_images = test_images.reshape(test_images.shape[0], 28, 28, 1)"
   ]
  },
  {
   "cell_type": "code",
   "execution_count": 39,
   "metadata": {},
   "outputs": [],
   "source": [
    "y_pred = model.predict(test_images)"
   ]
  },
  {
   "cell_type": "code",
   "execution_count": 40,
   "metadata": {},
   "outputs": [
    {
     "data": {
      "text/plain": [
       "0.8403513664249861"
      ]
     },
     "execution_count": 40,
     "metadata": {},
     "output_type": "execute_result"
    }
   ],
   "source": [
    "from sklearn.metrics import accuracy_score\n",
    "accuracy_score(test_labels, y_pred.round())"
   ]
  },
  {
   "cell_type": "code",
   "execution_count": null,
   "metadata": {},
   "outputs": [],
   "source": []
  }
 ],
 "metadata": {
  "kernelspec": {
   "display_name": "Python 3",
   "language": "python",
   "name": "python3"
  },
  "language_info": {
   "codemirror_mode": {
    "name": "ipython",
    "version": 3
   },
   "file_extension": ".py",
   "mimetype": "text/x-python",
   "name": "python",
   "nbconvert_exporter": "python",
   "pygments_lexer": "ipython3",
   "version": "3.6.9"
  }
 },
 "nbformat": 4,
 "nbformat_minor": 2
}
